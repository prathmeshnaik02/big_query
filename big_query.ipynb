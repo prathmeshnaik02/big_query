{
 "cells": [
  {
   "cell_type": "code",
   "execution_count": 15,
   "metadata": {},
   "outputs": [],
   "source": [
    "# !pip install pandas-gbq\n",
    "# !pip install --upgrade google-cloud-bigquery"
   ]
  },
  {
   "cell_type": "code",
   "execution_count": 30,
   "metadata": {},
   "outputs": [],
   "source": [
    "import requests\n",
    "import json\n",
    "from pprint import pprint\n",
    "import pandas as pd\n",
    "from pandas.io import gbq\n",
    "import os\n",
    "from dotenv import load_dotenv\n",
    "\n",
    "data_g = None"
   ]
  },
  {
   "cell_type": "code",
   "execution_count": 42,
   "metadata": {},
   "outputs": [],
   "source": [
    "def get_data():\n",
    "    resource = \"/resource/3b01bcb8-0b14-4abf-b6f2-c1bfd384ba69\"\n",
    "    api_key = \"579b464db66ec23bdd000001d16bebe4295744234023fe46120b3f81\"\n",
    "\n",
    "    url = f\"https://api.data.gov.in{resource}?api-key={api_key}&format=json&limit=150\"\n",
    "    headers = {\n",
    "        \"api-key\": \"579b464db66ec23bdd000001cdd3946e44ce4aad7209ff7b23ac571b\",\n",
    "        \"format\": \"json\"\n",
    "    }\n",
    "\n",
    "    response = requests.get(url, headers=headers)\n",
    "    data = json.loads(response.content.decode())\n",
    "\n",
    "    data_df = pd.DataFrame(data=data[\"records\"])\n",
    "    data_df = data_df[(data_df[\"pollutant_avg\"] != \"NA\") & (data_df[\"pollutant_max\"] != \"NA\") & (data_df[\"pollutant_min\"] != \"NA\")]\n",
    "    # data_df = data_df.astype({\"pollutant_min\": \"int32\", \"pollutant_max\": \"int32\", \"pollutant_avg\": \"int32\"})\n",
    "    \n",
    "    return data_df"
   ]
  },
  {
   "cell_type": "code",
   "execution_count": 43,
   "metadata": {},
   "outputs": [
    {
     "data": {
      "text/plain": [
       "id                object\n",
       "country           object\n",
       "state             object\n",
       "city              object\n",
       "station           object\n",
       "last_update       object\n",
       "pollutant_id      object\n",
       "pollutant_min     object\n",
       "pollutant_max     object\n",
       "pollutant_avg     object\n",
       "pollutant_unit    object\n",
       "dtype: object"
      ]
     },
     "execution_count": 43,
     "metadata": {},
     "output_type": "execute_result"
    }
   ],
   "source": [
    "data_df = get_data()\n",
    "data_df.dtypes"
   ]
  },
  {
   "cell_type": "code",
   "execution_count": 44,
   "metadata": {},
   "outputs": [],
   "source": [
    "project_id = \"steel-capsule-372509\"\n",
    "dataset = \"realtime_aqi\"\n",
    "table_name = \"everything\""
   ]
  },
  {
   "cell_type": "code",
   "execution_count": 45,
   "metadata": {},
   "outputs": [
    {
     "name": "stderr",
     "output_type": "stream",
     "text": [
      "100%|██████████| 1/1 [00:00<00:00, 5343.06it/s]\n"
     ]
    }
   ],
   "source": [
    "data_df.to_gbq(\n",
    "    destination_table=f\"{dataset}.{table_name}\",\n",
    "    project_id=project_id,\n",
    "    if_exists=\"replace\", # fail/append/replace\n",
    ")"
   ]
  },
  {
   "cell_type": "code",
   "execution_count": 41,
   "metadata": {},
   "outputs": [],
   "source": [
    "# from google.cloud import bigquery\n",
    "\n",
    "# client = bigquery.Client()\n",
    "# table_id = f\"{project_id}.{dataset}.{table_name}\""
   ]
  },
  {
   "cell_type": "code",
   "execution_count": null,
   "metadata": {},
   "outputs": [],
   "source": []
  }
 ],
 "metadata": {
  "kernelspec": {
   "display_name": "Python 3",
   "language": "python",
   "name": "python3"
  },
  "language_info": {
   "codemirror_mode": {
    "name": "ipython",
    "version": 3
   },
   "file_extension": ".py",
   "mimetype": "text/x-python",
   "name": "python",
   "nbconvert_exporter": "python",
   "pygments_lexer": "ipython3",
   "version": "3.9.12"
  },
  "orig_nbformat": 4,
  "vscode": {
   "interpreter": {
    "hash": "38334160d220ce7a7205be16a890ebd6ae2f9a13d244b93f1092b597d2fb43c0"
   }
  }
 },
 "nbformat": 4,
 "nbformat_minor": 2
}
